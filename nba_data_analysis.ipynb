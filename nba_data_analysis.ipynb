{
  "nbformat": 4,
  "nbformat_minor": 0,
  "metadata": {
    "colab": {
      "name": "Untitled2.ipynb",
      "provenance": [],
      "collapsed_sections": []
    },
    "kernelspec": {
      "name": "python3",
      "display_name": "Python 3"
    },
    "language_info": {
      "name": "python"
    }
  },
  "cells": [
    {
      "cell_type": "code",
      "execution_count": 61,
      "metadata": {
        "id": "ymLYMEmma3Wg"
      },
      "outputs": [],
      "source": [
        "import pandas as pd\n",
        "import matplotlib.pyplot as plt\n",
        "import numpy as np\n"
      ]
    },
    {
      "cell_type": "code",
      "source": [
        "df1 = pd.read_csv(\"games_details.csv\")\n",
        "df2 = pd.read_csv(\"games.csv\")\n",
        "df3 = pd.read_csv(\"players.csv\")\n",
        "df4 = pd.read_csv(\"ranking.csv\")\n",
        "df5 = pd.read_csv(\"teams.csv\")"
      ],
      "metadata": {
        "colab": {
          "base_uri": "https://localhost:8080/"
        },
        "id": "Nmz6qPbLeha8",
        "outputId": "cf2e27da-cb8a-46ac-feab-6bfcea77cfc6"
      },
      "execution_count": 69,
      "outputs": [
        {
          "output_type": "stream",
          "name": "stderr",
          "text": [
            "/usr/local/lib/python3.7/dist-packages/IPython/core/interactiveshell.py:2882: DtypeWarning: Columns (6) have mixed types.Specify dtype option on import or set low_memory=False.\n",
            "  exec(code_obj, self.user_global_ns, self.user_ns)\n"
          ]
        }
      ]
    },
    {
      "cell_type": "markdown",
      "source": [
        "**DATA SATIR VE SÜTUN SAYILARI**"
      ],
      "metadata": {
        "id": "V9cRETRAlBAP"
      }
    },
    {
      "cell_type": "code",
      "source": [
        "print(f'game_details datasında {df1.shape[0]} satır and {df1.shape[1]} sütun vardır.')\n",
        "print(f'games datasında {df2.shape[0]} satır and {df2.shape[1]} sütun vardır.')\n",
        "print(f'players datasında {df3.shape[0]} satır and {df3.shape[1]} sütun vardır.')\n",
        "print(f'reanking datasında {df4.shape[0]} satır and {df4.shape[1]} sütun vardır.')\n",
        "print(f'teams datasında {df5.shape[0]} satır and {df5.shape[1]} sütun vardır.')"
      ],
      "metadata": {
        "colab": {
          "base_uri": "https://localhost:8080/"
        },
        "id": "N_OhaC8Vhj39",
        "outputId": "76a9a4f3-541f-466c-a1bf-56c06e06f366"
      },
      "execution_count": 63,
      "outputs": [
        {
          "output_type": "stream",
          "name": "stdout",
          "text": [
            "game_details datasında 645953 satır and 29 sütun vardır.\n",
            "games datasında 25796 satır and 21 sütun vardır.\n",
            "players datasında 7228 satır and 4 sütun vardır.\n",
            "reanking datasında 201792 satır and 13 sütun vardır.\n",
            "teams datasında 30 satır and 14 sütun vardır.\n"
          ]
        }
      ]
    },
    {
      "cell_type": "markdown",
      "source": [
        "**DATA SÜTUNLARININ VERİ TİPLERİ**"
      ],
      "metadata": {
        "id": "9fxkymdFlGEP"
      }
    },
    {
      "cell_type": "code",
      "source": [
        "print(f'game_details datasının kolonlarını data tipi: {df1.dtypes}')\n",
        "print(f'games datasının kolonlarını data tipi: {df2.dtypes}')\n",
        "print(f'players datasının kolonlarını data tipi: {df3.dtypes}')\n",
        "print(f'reanking datasının kolonlarını data tipi: {df4.dtypes}')\n",
        "print(f'teams datasının kolonlarını data tipi: {df5.dtypes}')\n",
        "\n"
      ],
      "metadata": {
        "colab": {
          "base_uri": "https://localhost:8080/"
        },
        "id": "ylr4YJuVifeE",
        "outputId": "4ce573ca-37aa-4cc8-8151-651aa45f4775"
      },
      "execution_count": 64,
      "outputs": [
        {
          "output_type": "stream",
          "name": "stdout",
          "text": [
            "game_details datasının kolonlarını data tipi: GAME_ID                int64\n",
            "TEAM_ID                int64\n",
            "TEAM_ABBREVIATION     object\n",
            "TEAM_CITY             object\n",
            "PLAYER_ID              int64\n",
            "PLAYER_NAME           object\n",
            "NICKNAME              object\n",
            "START_POSITION        object\n",
            "COMMENT               object\n",
            "MIN                   object\n",
            "FGM                  float64\n",
            "FGA                  float64\n",
            "FG_PCT               float64\n",
            "FG3M                 float64\n",
            "FG3A                 float64\n",
            "FG3_PCT              float64\n",
            "FTM                  float64\n",
            "FTA                  float64\n",
            "FT_PCT               float64\n",
            "OREB                 float64\n",
            "DREB                 float64\n",
            "REB                  float64\n",
            "AST                  float64\n",
            "STL                  float64\n",
            "BLK                  float64\n",
            "TO                   float64\n",
            "PF                   float64\n",
            "PTS                  float64\n",
            "PLUS_MINUS           float64\n",
            "dtype: object\n",
            "games datasının kolonlarını data tipi: GAME_DATE_EST        object\n",
            "GAME_ID               int64\n",
            "GAME_STATUS_TEXT     object\n",
            "HOME_TEAM_ID          int64\n",
            "VISITOR_TEAM_ID       int64\n",
            "SEASON                int64\n",
            "TEAM_ID_home          int64\n",
            "PTS_home            float64\n",
            "FG_PCT_home         float64\n",
            "FT_PCT_home         float64\n",
            "FG3_PCT_home        float64\n",
            "AST_home            float64\n",
            "REB_home            float64\n",
            "TEAM_ID_away          int64\n",
            "PTS_away            float64\n",
            "FG_PCT_away         float64\n",
            "FT_PCT_away         float64\n",
            "FG3_PCT_away        float64\n",
            "AST_away            float64\n",
            "REB_away            float64\n",
            "HOME_TEAM_WINS        int64\n",
            "dtype: object\n",
            "players datasının kolonlarını data tipi: PLAYER_NAME    object\n",
            "TEAM_ID         int64\n",
            "PLAYER_ID       int64\n",
            "SEASON          int64\n",
            "dtype: object\n",
            "reanking datasının kolonlarını data tipi: TEAM_ID            int64\n",
            "LEAGUE_ID          int64\n",
            "SEASON_ID          int64\n",
            "STANDINGSDATE     object\n",
            "CONFERENCE        object\n",
            "TEAM              object\n",
            "G                  int64\n",
            "W                  int64\n",
            "L                  int64\n",
            "W_PCT            float64\n",
            "HOME_RECORD       object\n",
            "ROAD_RECORD       object\n",
            "RETURNTOPLAY     float64\n",
            "dtype: object\n",
            "teams datasının kolonlarını data tipi: LEAGUE_ID               int64\n",
            "TEAM_ID                 int64\n",
            "MIN_YEAR                int64\n",
            "MAX_YEAR                int64\n",
            "ABBREVIATION           object\n",
            "NICKNAME               object\n",
            "YEARFOUNDED             int64\n",
            "CITY                   object\n",
            "ARENA                  object\n",
            "ARENACAPACITY         float64\n",
            "OWNER                  object\n",
            "GENERALMANAGER         object\n",
            "HEADCOACH              object\n",
            "DLEAGUEAFFILIATION     object\n",
            "dtype: object\n"
          ]
        }
      ]
    },
    {
      "cell_type": "markdown",
      "source": [
        "**DEĞİŞKENLERİ TARİH OLAN SÜTUNLARIN VERİ TİPLERİNİN DATETİME DÖNÜŞTÜRÜLMESİ**"
      ],
      "metadata": {
        "id": "DRFF6K8dlOlv"
      }
    },
    {
      "cell_type": "code",
      "source": [
        "df2 = pd.read_csv(\"games.csv\",parse_dates=[\"GAME_DATE_EST\"])\n",
        "df4 = pd.read_csv(\"ranking.csv\",parse_dates=[\"STANDINGSDATE\"])\n",
        "\n",
        "print(f'games datasının kolonlarını data tipi: {df2.dtypes}')\n",
        "print(f'reanking datasının kolonlarını data tipi: {df4.dtypes}')\n",
        "\n"
      ],
      "metadata": {
        "colab": {
          "base_uri": "https://localhost:8080/"
        },
        "id": "T-_tTFzFkGhv",
        "outputId": "e579f613-6c1e-468f-e898-3b5beba7873b"
      },
      "execution_count": 65,
      "outputs": [
        {
          "output_type": "stream",
          "name": "stdout",
          "text": [
            "games datasının kolonlarını data tipi: GAME_DATE_EST       datetime64[ns]\n",
            "GAME_ID                      int64\n",
            "GAME_STATUS_TEXT            object\n",
            "HOME_TEAM_ID                 int64\n",
            "VISITOR_TEAM_ID              int64\n",
            "SEASON                       int64\n",
            "TEAM_ID_home                 int64\n",
            "PTS_home                   float64\n",
            "FG_PCT_home                float64\n",
            "FT_PCT_home                float64\n",
            "FG3_PCT_home               float64\n",
            "AST_home                   float64\n",
            "REB_home                   float64\n",
            "TEAM_ID_away                 int64\n",
            "PTS_away                   float64\n",
            "FG_PCT_away                float64\n",
            "FT_PCT_away                float64\n",
            "FG3_PCT_away               float64\n",
            "AST_away                   float64\n",
            "REB_away                   float64\n",
            "HOME_TEAM_WINS               int64\n",
            "dtype: object\n",
            "reanking datasının kolonlarını data tipi: TEAM_ID                   int64\n",
            "LEAGUE_ID                 int64\n",
            "SEASON_ID                 int64\n",
            "STANDINGSDATE    datetime64[ns]\n",
            "CONFERENCE               object\n",
            "TEAM                     object\n",
            "G                         int64\n",
            "W                         int64\n",
            "L                         int64\n",
            "W_PCT                   float64\n",
            "HOME_RECORD              object\n",
            "ROAD_RECORD              object\n",
            "RETURNTOPLAY            float64\n",
            "dtype: object\n"
          ]
        }
      ]
    },
    {
      "cell_type": "markdown",
      "source": [
        "**DATA HAKKINDA SATIR, SÜTUN , VERİ TİPİ, NAN SAYISI BİLGİLERİNİN HEPSİNE ULAŞMA YOLU**"
      ],
      "metadata": {
        "id": "MHYnHsKwllhs"
      }
    },
    {
      "cell_type": "code",
      "source": [
        "df1.info()\n",
        "df2.info()\n",
        "df3.info()\n",
        "df4.info()\n",
        "df5.info()"
      ],
      "metadata": {
        "colab": {
          "base_uri": "https://localhost:8080/"
        },
        "id": "UaSeT9SJibB9",
        "outputId": "205819c0-1ba9-4997-ac9f-7bf8d3826544"
      },
      "execution_count": 66,
      "outputs": [
        {
          "output_type": "stream",
          "name": "stdout",
          "text": [
            "<class 'pandas.core.frame.DataFrame'>\n",
            "RangeIndex: 645953 entries, 0 to 645952\n",
            "Data columns (total 29 columns):\n",
            " #   Column             Non-Null Count   Dtype  \n",
            "---  ------             --------------   -----  \n",
            " 0   GAME_ID            645953 non-null  int64  \n",
            " 1   TEAM_ID            645953 non-null  int64  \n",
            " 2   TEAM_ABBREVIATION  645953 non-null  object \n",
            " 3   TEAM_CITY          645953 non-null  object \n",
            " 4   PLAYER_ID          645953 non-null  int64  \n",
            " 5   PLAYER_NAME        645953 non-null  object \n",
            " 6   NICKNAME           30362 non-null   object \n",
            " 7   START_POSITION     247215 non-null  object \n",
            " 8   COMMENT            105602 non-null  object \n",
            " 9   MIN                540350 non-null  object \n",
            " 10  FGM                540350 non-null  float64\n",
            " 11  FGA                540350 non-null  float64\n",
            " 12  FG_PCT             540350 non-null  float64\n",
            " 13  FG3M               540350 non-null  float64\n",
            " 14  FG3A               540350 non-null  float64\n",
            " 15  FG3_PCT            540350 non-null  float64\n",
            " 16  FTM                540350 non-null  float64\n",
            " 17  FTA                540350 non-null  float64\n",
            " 18  FT_PCT             540350 non-null  float64\n",
            " 19  OREB               540350 non-null  float64\n",
            " 20  DREB               540350 non-null  float64\n",
            " 21  REB                540350 non-null  float64\n",
            " 22  AST                540350 non-null  float64\n",
            " 23  STL                540350 non-null  float64\n",
            " 24  BLK                540350 non-null  float64\n",
            " 25  TO                 540350 non-null  float64\n",
            " 26  PF                 540350 non-null  float64\n",
            " 27  PTS                540350 non-null  float64\n",
            " 28  PLUS_MINUS         516689 non-null  float64\n",
            "dtypes: float64(19), int64(3), object(7)\n",
            "memory usage: 142.9+ MB\n",
            "<class 'pandas.core.frame.DataFrame'>\n",
            "RangeIndex: 25796 entries, 0 to 25795\n",
            "Data columns (total 21 columns):\n",
            " #   Column            Non-Null Count  Dtype         \n",
            "---  ------            --------------  -----         \n",
            " 0   GAME_DATE_EST     25796 non-null  datetime64[ns]\n",
            " 1   GAME_ID           25796 non-null  int64         \n",
            " 2   GAME_STATUS_TEXT  25796 non-null  object        \n",
            " 3   HOME_TEAM_ID      25796 non-null  int64         \n",
            " 4   VISITOR_TEAM_ID   25796 non-null  int64         \n",
            " 5   SEASON            25796 non-null  int64         \n",
            " 6   TEAM_ID_home      25796 non-null  int64         \n",
            " 7   PTS_home          25697 non-null  float64       \n",
            " 8   FG_PCT_home       25697 non-null  float64       \n",
            " 9   FT_PCT_home       25697 non-null  float64       \n",
            " 10  FG3_PCT_home      25697 non-null  float64       \n",
            " 11  AST_home          25697 non-null  float64       \n",
            " 12  REB_home          25697 non-null  float64       \n",
            " 13  TEAM_ID_away      25796 non-null  int64         \n",
            " 14  PTS_away          25697 non-null  float64       \n",
            " 15  FG_PCT_away       25697 non-null  float64       \n",
            " 16  FT_PCT_away       25697 non-null  float64       \n",
            " 17  FG3_PCT_away      25697 non-null  float64       \n",
            " 18  AST_away          25697 non-null  float64       \n",
            " 19  REB_away          25697 non-null  float64       \n",
            " 20  HOME_TEAM_WINS    25796 non-null  int64         \n",
            "dtypes: datetime64[ns](1), float64(12), int64(7), object(1)\n",
            "memory usage: 4.1+ MB\n",
            "<class 'pandas.core.frame.DataFrame'>\n",
            "RangeIndex: 7228 entries, 0 to 7227\n",
            "Data columns (total 4 columns):\n",
            " #   Column       Non-Null Count  Dtype \n",
            "---  ------       --------------  ----- \n",
            " 0   PLAYER_NAME  7228 non-null   object\n",
            " 1   TEAM_ID      7228 non-null   int64 \n",
            " 2   PLAYER_ID    7228 non-null   int64 \n",
            " 3   SEASON       7228 non-null   int64 \n",
            "dtypes: int64(3), object(1)\n",
            "memory usage: 226.0+ KB\n",
            "<class 'pandas.core.frame.DataFrame'>\n",
            "RangeIndex: 201792 entries, 0 to 201791\n",
            "Data columns (total 13 columns):\n",
            " #   Column         Non-Null Count   Dtype         \n",
            "---  ------         --------------   -----         \n",
            " 0   TEAM_ID        201792 non-null  int64         \n",
            " 1   LEAGUE_ID      201792 non-null  int64         \n",
            " 2   SEASON_ID      201792 non-null  int64         \n",
            " 3   STANDINGSDATE  201792 non-null  datetime64[ns]\n",
            " 4   CONFERENCE     201792 non-null  object        \n",
            " 5   TEAM           201792 non-null  object        \n",
            " 6   G              201792 non-null  int64         \n",
            " 7   W              201792 non-null  int64         \n",
            " 8   L              201792 non-null  int64         \n",
            " 9   W_PCT          201792 non-null  float64       \n",
            " 10  HOME_RECORD    201792 non-null  object        \n",
            " 11  ROAD_RECORD    201792 non-null  object        \n",
            " 12  RETURNTOPLAY   3990 non-null    float64       \n",
            "dtypes: datetime64[ns](1), float64(2), int64(6), object(4)\n",
            "memory usage: 20.0+ MB\n",
            "<class 'pandas.core.frame.DataFrame'>\n",
            "RangeIndex: 30 entries, 0 to 29\n",
            "Data columns (total 14 columns):\n",
            " #   Column              Non-Null Count  Dtype  \n",
            "---  ------              --------------  -----  \n",
            " 0   LEAGUE_ID           30 non-null     int64  \n",
            " 1   TEAM_ID             30 non-null     int64  \n",
            " 2   MIN_YEAR            30 non-null     int64  \n",
            " 3   MAX_YEAR            30 non-null     int64  \n",
            " 4   ABBREVIATION        30 non-null     object \n",
            " 5   NICKNAME            30 non-null     object \n",
            " 6   YEARFOUNDED         30 non-null     int64  \n",
            " 7   CITY                30 non-null     object \n",
            " 8   ARENA               30 non-null     object \n",
            " 9   ARENACAPACITY       26 non-null     float64\n",
            " 10  OWNER               30 non-null     object \n",
            " 11  GENERALMANAGER      30 non-null     object \n",
            " 12  HEADCOACH           30 non-null     object \n",
            " 13  DLEAGUEAFFILIATION  30 non-null     object \n",
            "dtypes: float64(1), int64(5), object(8)\n",
            "memory usage: 3.4+ KB\n"
          ]
        }
      ]
    },
    {
      "cell_type": "markdown",
      "source": [
        "**DATA TİPİNİ TEKRAR OKURKEN DEĞİŞTİRMEK YERİNE ASTYPE İLE DEĞİŞTİRME**"
      ],
      "metadata": {
        "id": "U-SJKfV1nHtm"
      }
    },
    {
      "cell_type": "code",
      "source": [
        "df2[\"GAME_DATE_EST\"] = df2[\"GAME_DATE_EST\"].astype(\"datetime64[ns]\")\n",
        "df4[\"STANDINGSDATE\"] = df4[\"STANDINGSDATE\"].astype(\"datetime64[ns]\")\n",
        "\n",
        "df1.info()\n",
        "df2.info()"
      ],
      "metadata": {
        "colab": {
          "base_uri": "https://localhost:8080/"
        },
        "id": "wI9n-JVhnWW7",
        "outputId": "fc003cbe-9b9a-477a-f6cc-feafe1bc0fa2"
      },
      "execution_count": 67,
      "outputs": [
        {
          "output_type": "stream",
          "name": "stdout",
          "text": [
            "<class 'pandas.core.frame.DataFrame'>\n",
            "RangeIndex: 645953 entries, 0 to 645952\n",
            "Data columns (total 29 columns):\n",
            " #   Column             Non-Null Count   Dtype  \n",
            "---  ------             --------------   -----  \n",
            " 0   GAME_ID            645953 non-null  int64  \n",
            " 1   TEAM_ID            645953 non-null  int64  \n",
            " 2   TEAM_ABBREVIATION  645953 non-null  object \n",
            " 3   TEAM_CITY          645953 non-null  object \n",
            " 4   PLAYER_ID          645953 non-null  int64  \n",
            " 5   PLAYER_NAME        645953 non-null  object \n",
            " 6   NICKNAME           30362 non-null   object \n",
            " 7   START_POSITION     247215 non-null  object \n",
            " 8   COMMENT            105602 non-null  object \n",
            " 9   MIN                540350 non-null  object \n",
            " 10  FGM                540350 non-null  float64\n",
            " 11  FGA                540350 non-null  float64\n",
            " 12  FG_PCT             540350 non-null  float64\n",
            " 13  FG3M               540350 non-null  float64\n",
            " 14  FG3A               540350 non-null  float64\n",
            " 15  FG3_PCT            540350 non-null  float64\n",
            " 16  FTM                540350 non-null  float64\n",
            " 17  FTA                540350 non-null  float64\n",
            " 18  FT_PCT             540350 non-null  float64\n",
            " 19  OREB               540350 non-null  float64\n",
            " 20  DREB               540350 non-null  float64\n",
            " 21  REB                540350 non-null  float64\n",
            " 22  AST                540350 non-null  float64\n",
            " 23  STL                540350 non-null  float64\n",
            " 24  BLK                540350 non-null  float64\n",
            " 25  TO                 540350 non-null  float64\n",
            " 26  PF                 540350 non-null  float64\n",
            " 27  PTS                540350 non-null  float64\n",
            " 28  PLUS_MINUS         516689 non-null  float64\n",
            "dtypes: float64(19), int64(3), object(7)\n",
            "memory usage: 142.9+ MB\n",
            "<class 'pandas.core.frame.DataFrame'>\n",
            "RangeIndex: 25796 entries, 0 to 25795\n",
            "Data columns (total 21 columns):\n",
            " #   Column            Non-Null Count  Dtype         \n",
            "---  ------            --------------  -----         \n",
            " 0   GAME_DATE_EST     25796 non-null  datetime64[ns]\n",
            " 1   GAME_ID           25796 non-null  int64         \n",
            " 2   GAME_STATUS_TEXT  25796 non-null  object        \n",
            " 3   HOME_TEAM_ID      25796 non-null  int64         \n",
            " 4   VISITOR_TEAM_ID   25796 non-null  int64         \n",
            " 5   SEASON            25796 non-null  int64         \n",
            " 6   TEAM_ID_home      25796 non-null  int64         \n",
            " 7   PTS_home          25697 non-null  float64       \n",
            " 8   FG_PCT_home       25697 non-null  float64       \n",
            " 9   FT_PCT_home       25697 non-null  float64       \n",
            " 10  FG3_PCT_home      25697 non-null  float64       \n",
            " 11  AST_home          25697 non-null  float64       \n",
            " 12  REB_home          25697 non-null  float64       \n",
            " 13  TEAM_ID_away      25796 non-null  int64         \n",
            " 14  PTS_away          25697 non-null  float64       \n",
            " 15  FG_PCT_away       25697 non-null  float64       \n",
            " 16  FT_PCT_away       25697 non-null  float64       \n",
            " 17  FG3_PCT_away      25697 non-null  float64       \n",
            " 18  AST_away          25697 non-null  float64       \n",
            " 19  REB_away          25697 non-null  float64       \n",
            " 20  HOME_TEAM_WINS    25796 non-null  int64         \n",
            "dtypes: datetime64[ns](1), float64(12), int64(7), object(1)\n",
            "memory usage: 4.1+ MB\n"
          ]
        }
      ]
    },
    {
      "cell_type": "markdown",
      "source": [
        "**KOLON İSİMLERİNİ DEĞİŞTİRME**"
      ],
      "metadata": {
        "id": "Cd9cOu1AoKdY"
      }
    },
    {
      "cell_type": "code",
      "source": [
        "df3.rename({\"PLAYER_NAME\":\"OYUNCU_ADI\",\"TEAM_ID\":\"TAKIM_ID\",\"PLAYER_ID\":\"OYUNCU_ID\",\"SEASON\":\"SEZON\"},axis=\"columns\",inplace=False)\n",
        "df3.head(3)"
      ],
      "metadata": {
        "colab": {
          "base_uri": "https://localhost:8080/",
          "height": 143
        },
        "id": "0WTIWB-LoKn0",
        "outputId": "097ca97d-7e0c-4975-dd04-a99cc2109536"
      },
      "execution_count": 68,
      "outputs": [
        {
          "output_type": "execute_result",
          "data": {
            "text/plain": [
              "        PLAYER_NAME     TEAM_ID  PLAYER_ID  SEASON\n",
              "0     Royce O'Neale  1610612762    1626220    2019\n",
              "1  Bojan Bogdanovic  1610612762     202711    2019\n",
              "2       Rudy Gobert  1610612762     203497    2019"
            ],
            "text/html": [
              "\n",
              "  <div id=\"df-fa0bc59d-ce19-4006-b054-44d556141f11\">\n",
              "    <div class=\"colab-df-container\">\n",
              "      <div>\n",
              "<style scoped>\n",
              "    .dataframe tbody tr th:only-of-type {\n",
              "        vertical-align: middle;\n",
              "    }\n",
              "\n",
              "    .dataframe tbody tr th {\n",
              "        vertical-align: top;\n",
              "    }\n",
              "\n",
              "    .dataframe thead th {\n",
              "        text-align: right;\n",
              "    }\n",
              "</style>\n",
              "<table border=\"1\" class=\"dataframe\">\n",
              "  <thead>\n",
              "    <tr style=\"text-align: right;\">\n",
              "      <th></th>\n",
              "      <th>PLAYER_NAME</th>\n",
              "      <th>TEAM_ID</th>\n",
              "      <th>PLAYER_ID</th>\n",
              "      <th>SEASON</th>\n",
              "    </tr>\n",
              "  </thead>\n",
              "  <tbody>\n",
              "    <tr>\n",
              "      <th>0</th>\n",
              "      <td>Royce O'Neale</td>\n",
              "      <td>1610612762</td>\n",
              "      <td>1626220</td>\n",
              "      <td>2019</td>\n",
              "    </tr>\n",
              "    <tr>\n",
              "      <th>1</th>\n",
              "      <td>Bojan Bogdanovic</td>\n",
              "      <td>1610612762</td>\n",
              "      <td>202711</td>\n",
              "      <td>2019</td>\n",
              "    </tr>\n",
              "    <tr>\n",
              "      <th>2</th>\n",
              "      <td>Rudy Gobert</td>\n",
              "      <td>1610612762</td>\n",
              "      <td>203497</td>\n",
              "      <td>2019</td>\n",
              "    </tr>\n",
              "  </tbody>\n",
              "</table>\n",
              "</div>\n",
              "      <button class=\"colab-df-convert\" onclick=\"convertToInteractive('df-fa0bc59d-ce19-4006-b054-44d556141f11')\"\n",
              "              title=\"Convert this dataframe to an interactive table.\"\n",
              "              style=\"display:none;\">\n",
              "        \n",
              "  <svg xmlns=\"http://www.w3.org/2000/svg\" height=\"24px\"viewBox=\"0 0 24 24\"\n",
              "       width=\"24px\">\n",
              "    <path d=\"M0 0h24v24H0V0z\" fill=\"none\"/>\n",
              "    <path d=\"M18.56 5.44l.94 2.06.94-2.06 2.06-.94-2.06-.94-.94-2.06-.94 2.06-2.06.94zm-11 1L8.5 8.5l.94-2.06 2.06-.94-2.06-.94L8.5 2.5l-.94 2.06-2.06.94zm10 10l.94 2.06.94-2.06 2.06-.94-2.06-.94-.94-2.06-.94 2.06-2.06.94z\"/><path d=\"M17.41 7.96l-1.37-1.37c-.4-.4-.92-.59-1.43-.59-.52 0-1.04.2-1.43.59L10.3 9.45l-7.72 7.72c-.78.78-.78 2.05 0 2.83L4 21.41c.39.39.9.59 1.41.59.51 0 1.02-.2 1.41-.59l7.78-7.78 2.81-2.81c.8-.78.8-2.07 0-2.86zM5.41 20L4 18.59l7.72-7.72 1.47 1.35L5.41 20z\"/>\n",
              "  </svg>\n",
              "      </button>\n",
              "      \n",
              "  <style>\n",
              "    .colab-df-container {\n",
              "      display:flex;\n",
              "      flex-wrap:wrap;\n",
              "      gap: 12px;\n",
              "    }\n",
              "\n",
              "    .colab-df-convert {\n",
              "      background-color: #E8F0FE;\n",
              "      border: none;\n",
              "      border-radius: 50%;\n",
              "      cursor: pointer;\n",
              "      display: none;\n",
              "      fill: #1967D2;\n",
              "      height: 32px;\n",
              "      padding: 0 0 0 0;\n",
              "      width: 32px;\n",
              "    }\n",
              "\n",
              "    .colab-df-convert:hover {\n",
              "      background-color: #E2EBFA;\n",
              "      box-shadow: 0px 1px 2px rgba(60, 64, 67, 0.3), 0px 1px 3px 1px rgba(60, 64, 67, 0.15);\n",
              "      fill: #174EA6;\n",
              "    }\n",
              "\n",
              "    [theme=dark] .colab-df-convert {\n",
              "      background-color: #3B4455;\n",
              "      fill: #D2E3FC;\n",
              "    }\n",
              "\n",
              "    [theme=dark] .colab-df-convert:hover {\n",
              "      background-color: #434B5C;\n",
              "      box-shadow: 0px 1px 3px 1px rgba(0, 0, 0, 0.15);\n",
              "      filter: drop-shadow(0px 1px 2px rgba(0, 0, 0, 0.3));\n",
              "      fill: #FFFFFF;\n",
              "    }\n",
              "  </style>\n",
              "\n",
              "      <script>\n",
              "        const buttonEl =\n",
              "          document.querySelector('#df-fa0bc59d-ce19-4006-b054-44d556141f11 button.colab-df-convert');\n",
              "        buttonEl.style.display =\n",
              "          google.colab.kernel.accessAllowed ? 'block' : 'none';\n",
              "\n",
              "        async function convertToInteractive(key) {\n",
              "          const element = document.querySelector('#df-fa0bc59d-ce19-4006-b054-44d556141f11');\n",
              "          const dataTable =\n",
              "            await google.colab.kernel.invokeFunction('convertToInteractive',\n",
              "                                                     [key], {});\n",
              "          if (!dataTable) return;\n",
              "\n",
              "          const docLinkHtml = 'Like what you see? Visit the ' +\n",
              "            '<a target=\"_blank\" href=https://colab.research.google.com/notebooks/data_table.ipynb>data table notebook</a>'\n",
              "            + ' to learn more about interactive tables.';\n",
              "          element.innerHTML = '';\n",
              "          dataTable['output_type'] = 'display_data';\n",
              "          await google.colab.output.renderOutput(dataTable, element);\n",
              "          const docLink = document.createElement('div');\n",
              "          docLink.innerHTML = docLinkHtml;\n",
              "          element.appendChild(docLink);\n",
              "        }\n",
              "      </script>\n",
              "    </div>\n",
              "  </div>\n",
              "  "
            ]
          },
          "metadata": {},
          "execution_count": 68
        }
      ]
    },
    {
      "cell_type": "markdown",
      "source": [
        "**OYUNLARIN OYNANDIĞI ŞEHİRLER**"
      ],
      "metadata": {
        "id": "XUn960pXrcLT"
      }
    },
    {
      "cell_type": "code",
      "source": [
        "result = pd.merge(df1,df5,on=\"TEAM_ID\",how=\"outer\")\n",
        "result = result.groupby([\"GAME_ID\"])[\"CITY\"]\n",
        "result.first()"
      ],
      "metadata": {
        "colab": {
          "base_uri": "https://localhost:8080/"
        },
        "id": "buNYeEtxrgul",
        "outputId": "902c4e70-638c-452f-edb2-d54fd8302e67"
      },
      "execution_count": 70,
      "outputs": [
        {
          "output_type": "execute_result",
          "data": {
            "text/plain": [
              "GAME_ID\n",
              "10300001            Utah\n",
              "10300002       Milwaukee\n",
              "10300003       Cleveland\n",
              "10300004         Orlando\n",
              "10300005        Portland\n",
              "                ...     \n",
              "52000111         Indiana\n",
              "52000121    Golden State\n",
              "52000131     San Antonio\n",
              "52000201         Indiana\n",
              "52000211    Golden State\n",
              "Name: CITY, Length: 25668, dtype: object"
            ]
          },
          "metadata": {},
          "execution_count": 70
        }
      ]
    },
    {
      "cell_type": "markdown",
      "source": [
        "***OYUNLARIN OYNANDIĞI ŞEHİRLERİN SAYISI***"
      ],
      "metadata": {
        "id": "ipNvJJzJpd65"
      }
    },
    {
      "cell_type": "code",
      "source": [
        "result = pd.merge(df1,df5,on=\"TEAM_ID\",how=\"outer\")\n",
        "result = result.groupby([\"GAME_ID\"])[\"CITY\"].value_counts()\n",
        "result.head(10).plot.bar()"
      ],
      "metadata": {
        "colab": {
          "base_uri": "https://localhost:8080/",
          "height": 404
        },
        "id": "9H1-sAQUp7NQ",
        "outputId": "c3b2c8b4-4538-4cca-b942-c6f2277b399b"
      },
      "execution_count": 71,
      "outputs": [
        {
          "output_type": "execute_result",
          "data": {
            "text/plain": [
              "<matplotlib.axes._subplots.AxesSubplot at 0x7f3532824fd0>"
            ]
          },
          "metadata": {},
          "execution_count": 71
        },
        {
          "output_type": "display_data",
          "data": {
            "text/plain": [
              "<Figure size 432x288 with 1 Axes>"
            ],
            "image/png": "[encoded data removed]"
          },
          "metadata": {
            "needs_background": "light"
          }
        }
      ]
    },
    {
      "cell_type": "markdown",
      "source": [
        "**OYUN ID LERİ SAYISI**"
      ],
      "metadata": {
        "id": "0gjTBcw1q08E"
      }
    },
    {
      "cell_type": "code",
      "source": [
        "result = df1[\"GAME_ID\"].value_counts()\n",
        "result.head(10).plot.bar()"
      ],
      "metadata": {
        "colab": {
          "base_uri": "https://localhost:8080/",
          "height": 323
        },
        "id": "T51ZPxxdq1Gh",
        "outputId": "0f2c659c-e8a9-4b5c-901e-06046e3c262d"
      },
      "execution_count": 72,
      "outputs": [
        {
          "output_type": "execute_result",
          "data": {
            "text/plain": [
              "<matplotlib.axes._subplots.AxesSubplot at 0x7f35326ea510>"
            ]
          },
          "metadata": {},
          "execution_count": 72
        },
        {
          "output_type": "display_data",
          "data": {
            "text/plain": [
              "<Figure size 432x288 with 1 Axes>"
            ],
            "image/png": "[encoded data removed]"
          },
          "metadata": {
            "needs_background": "light"
          }
        }
      ]
    },
    {
      "cell_type": "markdown",
      "source": [
        "**Takımlara Göre max Faul Yapan Oyuncu istatistikleri**"
      ],
      "metadata": {
        "id": "2tMh3H38rW4L"
      }
    },
    {
      "cell_type": "code",
      "source": [
        "#TEAM_ID\",\"PLAYER_NAME\" ye göre gruplayarak pf(faul) max değerini aldık\n",
        "# df[\"PF\"].isnull().sum()\n",
        "df1[\"PF\"].fillna(value=0,inplace=True)\n",
        "# df[\"PF\"].isnull().sum()\n",
        "\n",
        "\n",
        "result = df1.groupby([\"TEAM_ID\",\"PLAYER_NAME\"])[[\"PF\"]].agg([np.sum,np.max,np.mean])\n",
        "#result = df.groupby([\"TEAM_ID\",\"PLAYER_NAME\"]).agg(np.max)[\"PF\"]\n",
        "\n",
        "result.head(10).plot.bar()"
      ],
      "metadata": {
        "colab": {
          "base_uri": "https://localhost:8080/",
          "height": 444
        },
        "id": "hTVgsI6wtOoD",
        "outputId": "1395d686-3d72-4ce3-e771-14ac4fd9efcd"
      },
      "execution_count": 73,
      "outputs": [
        {
          "output_type": "execute_result",
          "data": {
            "text/plain": [
              "<matplotlib.axes._subplots.AxesSubplot at 0x7f3530532b10>"
            ]
          },
          "metadata": {},
          "execution_count": 73
        },
        {
          "output_type": "display_data",
          "data": {
            "text/plain": [
              "<Figure size 432x288 with 1 Axes>"
            ],
            "image/png": "[encoded data removed]"
          },
          "metadata": {
            "needs_background": "light"
          }
        }
      ]
    },
    {
      "cell_type": "markdown",
      "source": [
        "**En Fazla Blok Yapan Oyuncu**"
      ],
      "metadata": {
        "id": "UX4t6DYDt0JW"
      }
    },
    {
      "cell_type": "code",
      "source": [
        "df1[\"BLK\"].isnull().sum()\n",
        "\n",
        "result = df1[df1['BLK'] == df1[\"BLK\"].max()][\"PLAYER_NAME\"].iloc[0]\n",
        "result"
      ],
      "metadata": {
        "colab": {
          "base_uri": "https://localhost:8080/",
          "height": 35
        },
        "id": "kFKxGxCut_0p",
        "outputId": "c89410fc-0c5c-40d7-a8fc-6e81b3149f9a"
      },
      "execution_count": 74,
      "outputs": [
        {
          "output_type": "execute_result",
          "data": {
            "text/plain": [
              "'JaVale McGee'"
            ],
            "application/vnd.google.colaboratory.intrinsic+json": {
              "type": "string"
            }
          },
          "metadata": {},
          "execution_count": 74
        }
      ]
    },
    {
      "cell_type": "markdown",
      "source": [
        "**Oyunlara Göre En Fazla Asisst Yapan Oyuncu**"
      ],
      "metadata": {
        "id": "HL7c-RRruHOt"
      }
    },
    {
      "cell_type": "code",
      "source": [
        "df1[\"AST\"].fillna(value=0,inplace=True)\n",
        "result = df1.groupby([\"GAME_ID\",\"PLAYER_NAME\"])[[\"AST\"]].agg(np.max)\n",
        "result.head(10).plot.bar()"
      ],
      "metadata": {
        "colab": {
          "base_uri": "https://localhost:8080/",
          "height": 457
        },
        "id": "-8YUrhplu_gP",
        "outputId": "843d01f9-0527-4ecf-ebe9-ec22896d9869"
      },
      "execution_count": 75,
      "outputs": [
        {
          "output_type": "execute_result",
          "data": {
            "text/plain": [
              "<matplotlib.axes._subplots.AxesSubplot at 0x7f353084e650>"
            ]
          },
          "metadata": {},
          "execution_count": 75
        },
        {
          "output_type": "display_data",
          "data": {
            "text/plain": [
              "<Figure size 432x288 with 1 Axes>"
            ],
            "image/png": "[encoded data removed]"
          },
          "metadata": {
            "needs_background": "light"
          }
        }
      ]
    },
    {
      "cell_type": "markdown",
      "source": [
        "**Her Takımda Kaç Oyuncu Oynamakta**"
      ],
      "metadata": {
        "id": "xDHTnNqIueOX"
      }
    },
    {
      "cell_type": "code",
      "source": [
        "result = df1.groupby(\"TEAM_ABBREVIATION\")[\"PLAYER_NAME\"].nunique()\n",
        "result.head(10).plot.bar()"
      ],
      "metadata": {
        "colab": {
          "base_uri": "https://localhost:8080/",
          "height": 311
        },
        "id": "FJ2im7Auwp54",
        "outputId": "f00430b8-8121-4a2a-ac59-dde8fd14f501"
      },
      "execution_count": 76,
      "outputs": [
        {
          "output_type": "execute_result",
          "data": {
            "text/plain": [
              "<matplotlib.axes._subplots.AxesSubplot at 0x7f3533681cd0>"
            ]
          },
          "metadata": {},
          "execution_count": 76
        },
        {
          "output_type": "display_data",
          "data": {
            "text/plain": [
              "<Figure size 432x288 with 1 Axes>"
            ],
            "image/png": "[encoded data removed]"
          },
          "metadata": {
            "needs_background": "light"
          }
        }
      ]
    },
    {
      "cell_type": "markdown",
      "source": [
        "**Oyunlara Göre Hangi Oyucu Kaç Dakika Oynadı**"
      ],
      "metadata": {
        "id": "pc3nk0M4vDKZ"
      }
    },
    {
      "cell_type": "code",
      "source": [
        "df1[\"MIN\"].fillna(value=0,inplace=True)\n",
        "result = df1.groupby([\"GAME_ID\",\"PLAYER_NAME\"])[[\"MIN\"]]\n",
        "result.first()"
      ],
      "metadata": {
        "colab": {
          "base_uri": "https://localhost:8080/",
          "height": 455
        },
        "id": "xxbodi00vNcF",
        "outputId": "b69e2235-58cf-4b80-f75c-ca598028c570"
      },
      "execution_count": 77,
      "outputs": [
        {
          "output_type": "execute_result",
          "data": {
            "text/plain": [
              "                             MIN\n",
              "GAME_ID  PLAYER_NAME            \n",
              "10300001 Ademola Okulaja       5\n",
              "         Andrei Kirilenko      5\n",
              "         Antawn Jamison        5\n",
              "         Ben Handlogten        5\n",
              "         Carlos Arroyo         5\n",
              "...                          ...\n",
              "52000211 Nico Mannion          0\n",
              "         Stephen Curry     47:23\n",
              "         Tim Frazier           0\n",
              "         Tyus Jones         7:15\n",
              "         Xavier Tillman    23:07\n",
              "\n",
              "[645660 rows x 1 columns]"
            ],
            "text/html": [
              "\n",
              "  <div id=\"df-9f507fb5-270f-4701-88f0-7c47e5441a16\">\n",
              "    <div class=\"colab-df-container\">\n",
              "      <div>\n",
              "<style scoped>\n",
              "    .dataframe tbody tr th:only-of-type {\n",
              "        vertical-align: middle;\n",
              "    }\n",
              "\n",
              "    .dataframe tbody tr th {\n",
              "        vertical-align: top;\n",
              "    }\n",
              "\n",
              "    .dataframe thead th {\n",
              "        text-align: right;\n",
              "    }\n",
              "</style>\n",
              "<table border=\"1\" class=\"dataframe\">\n",
              "  <thead>\n",
              "    <tr style=\"text-align: right;\">\n",
              "      <th></th>\n",
              "      <th></th>\n",
              "      <th>MIN</th>\n",
              "    </tr>\n",
              "    <tr>\n",
              "      <th>GAME_ID</th>\n",
              "      <th>PLAYER_NAME</th>\n",
              "      <th></th>\n",
              "    </tr>\n",
              "  </thead>\n",
              "  <tbody>\n",
              "    <tr>\n",
              "      <th rowspan=\"5\" valign=\"top\">10300001</th>\n",
              "      <th>Ademola Okulaja</th>\n",
              "      <td>5</td>\n",
              "    </tr>\n",
              "    <tr>\n",
              "      <th>Andrei Kirilenko</th>\n",
              "      <td>5</td>\n",
              "    </tr>\n",
              "    <tr>\n",
              "      <th>Antawn Jamison</th>\n",
              "      <td>5</td>\n",
              "    </tr>\n",
              "    <tr>\n",
              "      <th>Ben Handlogten</th>\n",
              "      <td>5</td>\n",
              "    </tr>\n",
              "    <tr>\n",
              "      <th>Carlos Arroyo</th>\n",
              "      <td>5</td>\n",
              "    </tr>\n",
              "    <tr>\n",
              "      <th>...</th>\n",
              "      <th>...</th>\n",
              "      <td>...</td>\n",
              "    </tr>\n",
              "    <tr>\n",
              "      <th rowspan=\"5\" valign=\"top\">52000211</th>\n",
              "      <th>Nico Mannion</th>\n",
              "      <td>0</td>\n",
              "    </tr>\n",
              "    <tr>\n",
              "      <th>Stephen Curry</th>\n",
              "      <td>47:23</td>\n",
              "    </tr>\n",
              "    <tr>\n",
              "      <th>Tim Frazier</th>\n",
              "      <td>0</td>\n",
              "    </tr>\n",
              "    <tr>\n",
              "      <th>Tyus Jones</th>\n",
              "      <td>7:15</td>\n",
              "    </tr>\n",
              "    <tr>\n",
              "      <th>Xavier Tillman</th>\n",
              "      <td>23:07</td>\n",
              "    </tr>\n",
              "  </tbody>\n",
              "</table>\n",
              "<p>645660 rows × 1 columns</p>\n",
              "</div>\n",
              "      <button class=\"colab-df-convert\" onclick=\"convertToInteractive('df-9f507fb5-270f-4701-88f0-7c47e5441a16')\"\n",
              "              title=\"Convert this dataframe to an interactive table.\"\n",
              "              style=\"display:none;\">\n",
              "        \n",
              "  <svg xmlns=\"http://www.w3.org/2000/svg\" height=\"24px\"viewBox=\"0 0 24 24\"\n",
              "       width=\"24px\">\n",
              "    <path d=\"M0 0h24v24H0V0z\" fill=\"none\"/>\n",
              "    <path d=\"M18.56 5.44l.94 2.06.94-2.06 2.06-.94-2.06-.94-.94-2.06-.94 2.06-2.06.94zm-11 1L8.5 8.5l.94-2.06 2.06-.94-2.06-.94L8.5 2.5l-.94 2.06-2.06.94zm10 10l.94 2.06.94-2.06 2.06-.94-2.06-.94-.94-2.06-.94 2.06-2.06.94z\"/><path d=\"M17.41 7.96l-1.37-1.37c-.4-.4-.92-.59-1.43-.59-.52 0-1.04.2-1.43.59L10.3 9.45l-7.72 7.72c-.78.78-.78 2.05 0 2.83L4 21.41c.39.39.9.59 1.41.59.51 0 1.02-.2 1.41-.59l7.78-7.78 2.81-2.81c.8-.78.8-2.07 0-2.86zM5.41 20L4 18.59l7.72-7.72 1.47 1.35L5.41 20z\"/>\n",
              "  </svg>\n",
              "      </button>\n",
              "      \n",
              "  <style>\n",
              "    .colab-df-container {\n",
              "      display:flex;\n",
              "      flex-wrap:wrap;\n",
              "      gap: 12px;\n",
              "    }\n",
              "\n",
              "    .colab-df-convert {\n",
              "      background-color: #E8F0FE;\n",
              "      border: none;\n",
              "      border-radius: 50%;\n",
              "      cursor: pointer;\n",
              "      display: none;\n",
              "      fill: #1967D2;\n",
              "      height: 32px;\n",
              "      padding: 0 0 0 0;\n",
              "      width: 32px;\n",
              "    }\n",
              "\n",
              "    .colab-df-convert:hover {\n",
              "      background-color: #E2EBFA;\n",
              "      box-shadow: 0px 1px 2px rgba(60, 64, 67, 0.3), 0px 1px 3px 1px rgba(60, 64, 67, 0.15);\n",
              "      fill: #174EA6;\n",
              "    }\n",
              "\n",
              "    [theme=dark] .colab-df-convert {\n",
              "      background-color: #3B4455;\n",
              "      fill: #D2E3FC;\n",
              "    }\n",
              "\n",
              "    [theme=dark] .colab-df-convert:hover {\n",
              "      background-color: #434B5C;\n",
              "      box-shadow: 0px 1px 3px 1px rgba(0, 0, 0, 0.15);\n",
              "      filter: drop-shadow(0px 1px 2px rgba(0, 0, 0, 0.3));\n",
              "      fill: #FFFFFF;\n",
              "    }\n",
              "  </style>\n",
              "\n",
              "      <script>\n",
              "        const buttonEl =\n",
              "          document.querySelector('#df-9f507fb5-270f-4701-88f0-7c47e5441a16 button.colab-df-convert');\n",
              "        buttonEl.style.display =\n",
              "          google.colab.kernel.accessAllowed ? 'block' : 'none';\n",
              "\n",
              "        async function convertToInteractive(key) {\n",
              "          const element = document.querySelector('#df-9f507fb5-270f-4701-88f0-7c47e5441a16');\n",
              "          const dataTable =\n",
              "            await google.colab.kernel.invokeFunction('convertToInteractive',\n",
              "                                                     [key], {});\n",
              "          if (!dataTable) return;\n",
              "\n",
              "          const docLinkHtml = 'Like what you see? Visit the ' +\n",
              "            '<a target=\"_blank\" href=https://colab.research.google.com/notebooks/data_table.ipynb>data table notebook</a>'\n",
              "            + ' to learn more about interactive tables.';\n",
              "          element.innerHTML = '';\n",
              "          dataTable['output_type'] = 'display_data';\n",
              "          await google.colab.output.renderOutput(dataTable, element);\n",
              "          const docLink = document.createElement('div');\n",
              "          docLink.innerHTML = docLinkHtml;\n",
              "          element.appendChild(docLink);\n",
              "        }\n",
              "      </script>\n",
              "    </div>\n",
              "  </div>\n",
              "  "
            ]
          },
          "metadata": {},
          "execution_count": 77
        }
      ]
    },
    {
      "cell_type": "markdown",
      "source": [
        "**Oyuncunuların Game ID'lere Göre plus_mınus Değerlerinin  0> başarılı <0 başarısız Şeklinde Sütun Eklenmesi**"
      ],
      "metadata": {
        "id": "HT8vbynSvfuQ"
      }
    },
    {
      "cell_type": "code",
      "source": [
        "result = df1.groupby(\"TEAM_ABBREVIATION\")[\"PLAYER_NAME\"].nunique()\n",
        "plus_mınus_dgr = []\n",
        "df1[\"PLUS_MINUS\"].fillna(value=df1[\"PLUS_MINUS\"].mean(),inplace=True)\n",
        "result = df1.groupby([\"PLAYER_NAME\",\"GAME_ID\"])[[\"PLUS_MINUS\"]]\n",
        "for i in df1.PLUS_MINUS:\n",
        "  if i > 0:\n",
        "    plus_mınus_dgr.append(\"başarılı\")\n",
        "  else:\n",
        "    plus_mınus_dgr.append(\"çalışmalı\")\n",
        "\n",
        "df1[\"plus_mınus_dgr\"] = plus_mınus_dgr \n",
        "result = df1.groupby(\"PLUS_MINUS\")[[\"plus_mınus_dgr\"]]\n",
        "result.first()\n",
        "\n"
      ],
      "metadata": {
        "colab": {
          "base_uri": "https://localhost:8080/",
          "height": 455
        },
        "id": "SDBwcDNDv29l",
        "outputId": "8530957c-9c66-413c-cb03-18cfe964f2d3"
      },
      "execution_count": 81,
      "outputs": [
        {
          "output_type": "execute_result",
          "data": {
            "text/plain": [
              "           plus_mınus_dgr\n",
              "PLUS_MINUS               \n",
              "-57.0           çalışmalı\n",
              "-56.0           çalışmalı\n",
              "-53.0           çalışmalı\n",
              "-51.0           çalışmalı\n",
              "-50.0           çalışmalı\n",
              "...                   ...\n",
              " 50.0            başarılı\n",
              " 51.0            başarılı\n",
              " 52.0            başarılı\n",
              " 54.0            başarılı\n",
              " 57.0            başarılı\n",
              "\n",
              "[109 rows x 1 columns]"
            ],
            "text/html": [
              "\n",
              "  <div id=\"df-04fdc7ea-09da-45e6-9e41-cfb8ba6ce94b\">\n",
              "    <div class=\"colab-df-container\">\n",
              "      <div>\n",
              "<style scoped>\n",
              "    .dataframe tbody tr th:only-of-type {\n",
              "        vertical-align: middle;\n",
              "    }\n",
              "\n",
              "    .dataframe tbody tr th {\n",
              "        vertical-align: top;\n",
              "    }\n",
              "\n",
              "    .dataframe thead th {\n",
              "        text-align: right;\n",
              "    }\n",
              "</style>\n",
              "<table border=\"1\" class=\"dataframe\">\n",
              "  <thead>\n",
              "    <tr style=\"text-align: right;\">\n",
              "      <th></th>\n",
              "      <th>plus_mınus_dgr</th>\n",
              "    </tr>\n",
              "    <tr>\n",
              "      <th>PLUS_MINUS</th>\n",
              "      <th></th>\n",
              "    </tr>\n",
              "  </thead>\n",
              "  <tbody>\n",
              "    <tr>\n",
              "      <th>-57.0</th>\n",
              "      <td>çalışmalı</td>\n",
              "    </tr>\n",
              "    <tr>\n",
              "      <th>-56.0</th>\n",
              "      <td>çalışmalı</td>\n",
              "    </tr>\n",
              "    <tr>\n",
              "      <th>-53.0</th>\n",
              "      <td>çalışmalı</td>\n",
              "    </tr>\n",
              "    <tr>\n",
              "      <th>-51.0</th>\n",
              "      <td>çalışmalı</td>\n",
              "    </tr>\n",
              "    <tr>\n",
              "      <th>-50.0</th>\n",
              "      <td>çalışmalı</td>\n",
              "    </tr>\n",
              "    <tr>\n",
              "      <th>...</th>\n",
              "      <td>...</td>\n",
              "    </tr>\n",
              "    <tr>\n",
              "      <th>50.0</th>\n",
              "      <td>başarılı</td>\n",
              "    </tr>\n",
              "    <tr>\n",
              "      <th>51.0</th>\n",
              "      <td>başarılı</td>\n",
              "    </tr>\n",
              "    <tr>\n",
              "      <th>52.0</th>\n",
              "      <td>başarılı</td>\n",
              "    </tr>\n",
              "    <tr>\n",
              "      <th>54.0</th>\n",
              "      <td>başarılı</td>\n",
              "    </tr>\n",
              "    <tr>\n",
              "      <th>57.0</th>\n",
              "      <td>başarılı</td>\n",
              "    </tr>\n",
              "  </tbody>\n",
              "</table>\n",
              "<p>109 rows × 1 columns</p>\n",
              "</div>\n",
              "      <button class=\"colab-df-convert\" onclick=\"convertToInteractive('df-04fdc7ea-09da-45e6-9e41-cfb8ba6ce94b')\"\n",
              "              title=\"Convert this dataframe to an interactive table.\"\n",
              "              style=\"display:none;\">\n",
              "        \n",
              "  <svg xmlns=\"http://www.w3.org/2000/svg\" height=\"24px\"viewBox=\"0 0 24 24\"\n",
              "       width=\"24px\">\n",
              "    <path d=\"M0 0h24v24H0V0z\" fill=\"none\"/>\n",
              "    <path d=\"M18.56 5.44l.94 2.06.94-2.06 2.06-.94-2.06-.94-.94-2.06-.94 2.06-2.06.94zm-11 1L8.5 8.5l.94-2.06 2.06-.94-2.06-.94L8.5 2.5l-.94 2.06-2.06.94zm10 10l.94 2.06.94-2.06 2.06-.94-2.06-.94-.94-2.06-.94 2.06-2.06.94z\"/><path d=\"M17.41 7.96l-1.37-1.37c-.4-.4-.92-.59-1.43-.59-.52 0-1.04.2-1.43.59L10.3 9.45l-7.72 7.72c-.78.78-.78 2.05 0 2.83L4 21.41c.39.39.9.59 1.41.59.51 0 1.02-.2 1.41-.59l7.78-7.78 2.81-2.81c.8-.78.8-2.07 0-2.86zM5.41 20L4 18.59l7.72-7.72 1.47 1.35L5.41 20z\"/>\n",
              "  </svg>\n",
              "      </button>\n",
              "      \n",
              "  <style>\n",
              "    .colab-df-container {\n",
              "      display:flex;\n",
              "      flex-wrap:wrap;\n",
              "      gap: 12px;\n",
              "    }\n",
              "\n",
              "    .colab-df-convert {\n",
              "      background-color: #E8F0FE;\n",
              "      border: none;\n",
              "      border-radius: 50%;\n",
              "      cursor: pointer;\n",
              "      display: none;\n",
              "      fill: #1967D2;\n",
              "      height: 32px;\n",
              "      padding: 0 0 0 0;\n",
              "      width: 32px;\n",
              "    }\n",
              "\n",
              "    .colab-df-convert:hover {\n",
              "      background-color: #E2EBFA;\n",
              "      box-shadow: 0px 1px 2px rgba(60, 64, 67, 0.3), 0px 1px 3px 1px rgba(60, 64, 67, 0.15);\n",
              "      fill: #174EA6;\n",
              "    }\n",
              "\n",
              "    [theme=dark] .colab-df-convert {\n",
              "      background-color: #3B4455;\n",
              "      fill: #D2E3FC;\n",
              "    }\n",
              "\n",
              "    [theme=dark] .colab-df-convert:hover {\n",
              "      background-color: #434B5C;\n",
              "      box-shadow: 0px 1px 3px 1px rgba(0, 0, 0, 0.15);\n",
              "      filter: drop-shadow(0px 1px 2px rgba(0, 0, 0, 0.3));\n",
              "      fill: #FFFFFF;\n",
              "    }\n",
              "  </style>\n",
              "\n",
              "      <script>\n",
              "        const buttonEl =\n",
              "          document.querySelector('#df-04fdc7ea-09da-45e6-9e41-cfb8ba6ce94b button.colab-df-convert');\n",
              "        buttonEl.style.display =\n",
              "          google.colab.kernel.accessAllowed ? 'block' : 'none';\n",
              "\n",
              "        async function convertToInteractive(key) {\n",
              "          const element = document.querySelector('#df-04fdc7ea-09da-45e6-9e41-cfb8ba6ce94b');\n",
              "          const dataTable =\n",
              "            await google.colab.kernel.invokeFunction('convertToInteractive',\n",
              "                                                     [key], {});\n",
              "          if (!dataTable) return;\n",
              "\n",
              "          const docLinkHtml = 'Like what you see? Visit the ' +\n",
              "            '<a target=\"_blank\" href=https://colab.research.google.com/notebooks/data_table.ipynb>data table notebook</a>'\n",
              "            + ' to learn more about interactive tables.';\n",
              "          element.innerHTML = '';\n",
              "          dataTable['output_type'] = 'display_data';\n",
              "          await google.colab.output.renderOutput(dataTable, element);\n",
              "          const docLink = document.createElement('div');\n",
              "          docLink.innerHTML = docLinkHtml;\n",
              "          element.appendChild(docLink);\n",
              "        }\n",
              "      </script>\n",
              "    </div>\n",
              "  </div>\n",
              "  "
            ]
          },
          "metadata": {},
          "execution_count": 81
        }
      ]
    },
    {
      "cell_type": "markdown",
      "source": [
        "**Tarihlere Göre Takımların Puan İstatistkleri**"
      ],
      "metadata": {
        "id": "CuW62Cylx7JN"
      }
    },
    {
      "cell_type": "code",
      "source": [
        "result = pd.merge(df1,df2,on=\"GAME_ID\",how=\"outer\")\n",
        "result[\"PTS\"].isnull().sum()\n",
        "result[\"PTS\"].fillna(value=result[\"PTS\"].mean(),inplace=True)\n",
        "\n",
        "result = result.groupby([\"GAME_DATE_EST\",\"TEAM_ID\"])[[\"PTS\"]].agg([np.max,np.mean,np.min])\n",
        "result.head(10).plot.bar()\n"
      ],
      "metadata": {
        "colab": {
          "base_uri": "https://localhost:8080/",
          "height": 432
        },
        "id": "DT6618M8yBSQ",
        "outputId": "ff23c2ae-00dc-4b96-9c3c-a7c427fc2432"
      },
      "execution_count": 83,
      "outputs": [
        {
          "output_type": "execute_result",
          "data": {
            "text/plain": [
              "<matplotlib.axes._subplots.AxesSubplot at 0x7f35337d4e10>"
            ]
          },
          "metadata": {},
          "execution_count": 83
        },
        {
          "output_type": "display_data",
          "data": {
            "text/plain": [
              "<Figure size 432x288 with 1 Axes>"
            ],
            "image/png": "[encoded data removed]"
          },
          "metadata": {
            "needs_background": "light"
          }
        }
      ]
    },
    {
      "cell_type": "markdown",
      "source": [
        "**Ev Sahibi Takımın Kazandığı Durumlardaki Saha Gol Yüzdesi**"
      ],
      "metadata": {
        "id": "9HVFii0GyLjW"
      }
    },
    {
      "cell_type": "code",
      "source": [
        "result = pd.merge(df1,df2,on=\"GAME_ID\",how=\"outer\")\n",
        "result[\"FG_PCT\"].isnull().sum()\n",
        "result[\"FG_PCT\"].fillna(value=result[\"FG_PCT\"].mean(),inplace=True)\n",
        "result = result[result[\"HOME_TEAM_WINS\"]== 1][\"FG_PCT\"]\n",
        "result.head(10).plot.bar()"
      ],
      "metadata": {
        "colab": {
          "base_uri": "https://localhost:8080/",
          "height": 285
        },
        "id": "8fCUuos4yXzV",
        "outputId": "b67df9ba-4f72-4af1-abe6-837b39987130"
      },
      "execution_count": 88,
      "outputs": [
        {
          "output_type": "execute_result",
          "data": {
            "text/plain": [
              "<matplotlib.axes._subplots.AxesSubplot at 0x7f35334281d0>"
            ]
          },
          "metadata": {},
          "execution_count": 88
        },
        {
          "output_type": "display_data",
          "data": {
            "text/plain": [
              "<Figure size 432x288 with 1 Axes>"
            ],
            "image/png": "[encoded data removed]"
          },
          "metadata": {
            "needs_background": "light"
          }
        }
      ]
    },
    {
      "cell_type": "markdown",
      "source": [
        "**2002 DE TRAJAN LANGDON'un Yönettiği Maçların Kazanılan Maç Sayısı Ortalaması**"
      ],
      "metadata": {
        "id": "G3o0qXcVzGkG"
      }
    },
    {
      "cell_type": "code",
      "source": [
        "result = pd.merge(df5,df4,on=\"LEAGUE_ID\",how=\"outer\")\n",
        "result[\"W_PCT\"].isnull().sum()\n",
        "result = result[(result[\"YEARFOUNDED\"] == 2002) & (result[\"GENERALMANAGER\"] == \"Trajan Langdon\")][\"W_PCT\"]\n",
        "result.head(10).plot.bar()"
      ],
      "metadata": {
        "colab": {
          "base_uri": "https://localhost:8080/",
          "height": 310
        },
        "id": "JwIVJfeozUy9",
        "outputId": "ec33bdb8-b624-4d9a-b347-7d40d7238ec8"
      },
      "execution_count": 90,
      "outputs": [
        {
          "output_type": "execute_result",
          "data": {
            "text/plain": [
              "<matplotlib.axes._subplots.AxesSubplot at 0x7f35338e6990>"
            ]
          },
          "metadata": {},
          "execution_count": 90
        },
        {
          "output_type": "display_data",
          "data": {
            "text/plain": [
              "<Figure size 432x288 with 1 Axes>"
            ],
            "image/png": "[encoded data removed]"
          },
          "metadata": {
            "needs_background": "light"
          }
        }
      ]
    },
    {
      "cell_type": "markdown",
      "source": [
        "**Ev Sahibi Takımın Kazanma Ve Kaybetme Durumlarına Göre Arena Kapasitesi**"
      ],
      "metadata": {
        "id": "ypM4K021zf39"
      }
    },
    {
      "cell_type": "code",
      "source": [
        "new_df2 = df2.drop(['GAME_DATE_EST', 'GAME_ID', 'GAME_STATUS_TEXT', 'HOME_TEAM_ID',\n",
        "       'VISITOR_TEAM_ID', 'TEAM_ID_home', 'PTS_home', 'FG_PCT_home',\n",
        "       'FT_PCT_home', 'FG3_PCT_home', 'AST_home', 'REB_home', 'TEAM_ID_away',\n",
        "       'PTS_away', 'FG_PCT_away', 'FT_PCT_away', 'FG3_PCT_away', 'AST_away',\n",
        "       'REB_away'],axis=1)\n",
        "new_df3=df3.drop(['PLAYER_NAME', 'PLAYER_ID'],axis=1)\n",
        "new_df5 = df5.drop(['LEAGUE_ID', 'MIN_YEAR', 'MAX_YEAR', 'ABBREVIATION',\n",
        "       'NICKNAME', 'YEARFOUNDED', 'CITY', 'ARENA','OWNER',\n",
        "       'GENERALMANAGER', 'HEADCOACH', 'DLEAGUEAFFILIATION'],axis=1)\n",
        "print(new_df2.head(3))\n",
        "print(new_df3.head(3))\n",
        "print(new_df5.head(3))"
      ],
      "metadata": {
        "colab": {
          "base_uri": "https://localhost:8080/"
        },
        "id": "Q-aLAOOV2b4e",
        "outputId": "1afde74e-8c42-4772-9811-bca85deeda2a"
      },
      "execution_count": 91,
      "outputs": [
        {
          "output_type": "stream",
          "name": "stdout",
          "text": [
            "   SEASON  HOME_TEAM_WINS\n",
            "0    2021               0\n",
            "1    2021               1\n",
            "2    2021               0\n",
            "      TEAM_ID  SEASON\n",
            "0  1610612762    2019\n",
            "1  1610612762    2019\n",
            "2  1610612762    2019\n",
            "      TEAM_ID  ARENACAPACITY\n",
            "0  1610612737        18729.0\n",
            "1  1610612738        18624.0\n",
            "2  1610612740            NaN\n"
          ]
        }
      ]
    },
    {
      "cell_type": "code",
      "source": [
        "#df2 ve df3 için tüm season satır değerlerini aldı\n",
        "#bu satır değerleirine karşılık gelen home ve team ıd leri bastı olmayanlar nan dedi.temıd için 10759 nan değer geldi\n",
        "#df6 ve df5 için tüm temıd satır değerlerini getirdi 10759 nan teamıd dahil\n",
        "#bu satır değerlerine karşılık gelen seans home ve arena değerlerini bastırdı\n",
        "#drop ettiğim verileri mergeledim\n",
        "\n",
        "df6 = new_df2.merge(new_df3, on= \"SEASON\",how=\"outer\")\n",
        "df6=df6.drop([\"SEASON\"],axis=1)\n",
        "result = df6.merge(new_df5,on= \"TEAM_ID\",how=\"outer\")\n",
        "result=result.drop([\"TEAM_ID\"],axis=1)\n",
        "df6.isnull().sum()\n",
        "# result.isnull().sum()\n",
        "# result.shape\n",
        "# result."
      ],
      "metadata": {
        "colab": {
          "base_uri": "https://localhost:8080/"
        },
        "id": "pJUigbN91pKL",
        "outputId": "91b91a3c-2c3c-4503-9d53-638881b50bfc"
      },
      "execution_count": 92,
      "outputs": [
        {
          "output_type": "execute_result",
          "data": {
            "text/plain": [
              "HOME_TEAM_WINS        0\n",
              "TEAM_ID           10759\n",
              "dtype: int64"
            ]
          },
          "metadata": {},
          "execution_count": 92
        }
      ]
    },
    {
      "cell_type": "code",
      "source": [
        "#Kapasite değerlerine göre kazanma ve kaybetme sayısı\n",
        "capacity = result.groupby(by=\"ARENACAPACITY\")[\"HOME_TEAM_WINS\"]\n",
        "capacity.value_counts().plot.bar()"
      ],
      "metadata": {
        "colab": {
          "base_uri": "https://localhost:8080/",
          "height": 349
        },
        "id": "44qzQ9Op2i29",
        "outputId": "2d3f7d9d-f032-4de2-cd7f-4c27067938e3"
      },
      "execution_count": 93,
      "outputs": [
        {
          "output_type": "execute_result",
          "data": {
            "text/plain": [
              "<matplotlib.axes._subplots.AxesSubplot at 0x7f353305ca50>"
            ]
          },
          "metadata": {},
          "execution_count": 93
        },
        {
          "output_type": "display_data",
          "data": {
            "text/plain": [
              "<Figure size 432x288 with 1 Axes>"
            ],
            "image/png": "[encoded data removed]"
          },
          "metadata": {
            "needs_background": "light"
          }
        }
      ]
    },
    {
      "cell_type": "code",
      "source": [
        ""
      ],
      "metadata": {
        "id": "G937XtI75DLk"
      },
      "execution_count": null,
      "outputs": []
    }
  ]
}
